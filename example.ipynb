{
 "cells": [
  {
   "cell_type": "markdown",
   "metadata": {},
   "source": [
    "# Streaming Zarr\n",
    "\n",
    "This notebook demonstrates how to use Redis and Zarr to enable analysis of a stream of data coming from a simulation model. We use _Conway's Game of Life_ as our \"simulation model\"."
   ]
  },
  {
   "cell_type": "code",
   "execution_count": null,
   "metadata": {},
   "outputs": [],
   "source": [
    "# imports\n",
    "\n",
    "from bokeh.io import show, output_notebook\n",
    "from bokeh.application import Application\n",
    "from bokeh.application.handlers.function import FunctionHandler\n",
    "from bokeh.plotting import figure, ColumnDataSource\n",
    "\n",
    "import dask.array\n",
    "from dask.diagnostics import ProgressBar\n",
    "\n",
    "import matplotlib.pyplot as plt\n",
    "import xarray as xr\n",
    "import zarr"
   ]
  },
  {
   "cell_type": "code",
   "execution_count": null,
   "metadata": {},
   "outputs": [],
   "source": [
    "# we'll output some results using bokeh, this next lines enables embedding bokeh apps in the notebook\n",
    "output_notebook()"
   ]
  },
  {
   "cell_type": "markdown",
   "metadata": {},
   "source": [
    "## Zarr's Redis Store\n",
    "\n",
    "Zarr recently added a `RedisStore` to its growing list of MutableMapping interfaces. This store will allow us to read/write Zarr arrays to an active Redis server. If you are running this notebook as a Binder, we've already started a Redis server for you and have begun to stream data from our simulation model."
   ]
  },
  {
   "cell_type": "code",
   "execution_count": null,
   "metadata": {},
   "outputs": [],
   "source": [
    "# connect to the redis server\n",
    "store = zarr.RedisStore(port=7777)"
   ]
  },
  {
   "cell_type": "markdown",
   "metadata": {},
   "source": [
    "## Basic Data Access\n",
    "\n",
    "Our model is writing each timestep to a different key within the Redis database. These keys accumulate until they are evicted (usually because of memory pressure).\n",
    "\n",
    "In the cell below, we use `store.keylist()` to list all the available keys and extract one array (timestep). We plot this array using matplotlib."
   ]
  },
  {
   "cell_type": "code",
   "execution_count": null,
   "metadata": {},
   "outputs": [],
   "source": [
    "def get_all_keys(store):\n",
    "    '''helper function to get all available keys in the RedisStore'''\n",
    "    keys = list(set([s.split('/')[0] for s in store.keylist()]))\n",
    "    keys.remove('.zgroup')\n",
    "    keys.sort(key=int)\n",
    "    return keys\n",
    "\n",
    "\n",
    "def get_most_recent_key(store):\n",
    "    '''helper function to get the most recent key from redis'''\n",
    "    keys = get_all_keys(store)\n",
    "    return keys[-1]\n",
    "\n",
    "\n",
    "# access the most recent frame of data\n",
    "key = get_most_recent_key(store)\n",
    "grid = zarr.open_array(store=store, mode='r', path=key)\n",
    "\n",
    "# make a quick matplotlib plot\n",
    "plt.imshow(grid, cmap='Greys')\n",
    "plt.title(key)"
   ]
  },
  {
   "cell_type": "markdown",
   "metadata": {},
   "source": [
    "## Using Dask\n",
    "We can repeat this proceedure, this time using Dask. Since our Zarr array's are chunked, Dask automatically returns a chunked array."
   ]
  },
  {
   "cell_type": "code",
   "execution_count": null,
   "metadata": {},
   "outputs": [],
   "source": [
    "key = get_most_recent_key(store)\n",
    "grid = zarr.open_array(store=store, mode='r', path=key)\n",
    "\n",
    "# map the zarr array to a dask array\n",
    "grid2 = dask.array.from_zarr(grid)\n",
    "grid2"
   ]
  },
  {
   "cell_type": "markdown",
   "metadata": {},
   "source": [
    "We can compute the values of this array using the `.compute()` method: "
   ]
  },
  {
   "cell_type": "code",
   "execution_count": null,
   "metadata": {},
   "outputs": [],
   "source": [
    "# compute the array using dask\n",
    "with ProgressBar():\n",
    "    grid2.compute()\n",
    "    \n",
    "# another plot\n",
    "plt.imshow(grid2, cmap='Greys')\n",
    "plt.title(key)"
   ]
  },
  {
   "cell_type": "markdown",
   "metadata": {},
   "source": [
    "## Visualizing the model in real time\n",
    "\n",
    "Often times when running a simulation model, we have to wait until the simulation is complete before we can observe what it has done. Now that we are streaming data to our Redis server, we can visualize the model as it runs. In the next cell, we setup a fairly simple Bokeh application that will let us watch the Game of Life as it evolves in time."
   ]
  },
  {
   "cell_type": "code",
   "execution_count": null,
   "metadata": {},
   "outputs": [],
   "source": [
    "def get(key='1'):\n",
    "    data = grid = zarr.open_array(store=store, mode='r', path=key)\n",
    "    return data[:]\n",
    "\n",
    "\n",
    "def make_document(doc):\n",
    "\n",
    "    key = get_most_recent_key(store)\n",
    "    data = get(key)\n",
    "    shape = data.shape\n",
    "\n",
    "    img = data\n",
    "    source = ColumnDataSource(data=dict(img=[img]))\n",
    "\n",
    "    def update():\n",
    "        s1, s2 = slice(None), slice(None)\n",
    "        index = [0, s1, s2]\n",
    "        key = get_most_recent_key(store)\n",
    "        data = get(key)\n",
    "        new_data = data.flatten()\n",
    "        source.patch({'img' : [(index, new_data)]})\n",
    "        p2d.title.text = f\"Streaming Conway's Game of Life - Timestep: {key}\"\n",
    "        p2d.title.align = \"left\"\n",
    "\n",
    "    doc.add_periodic_callback(update, 1)\n",
    "    p2d = figure(plot_width=500, plot_height=500, x_range=(0,shape[0]), y_range=(0,shape[1]),\n",
    "                 title=f\"Streaming Conway's Game of Life - Timestep: {key}\")\n",
    "    p2d.image(image='img', x=0, y=0, dw=shape[0], dh=shape[1], source=source)\n",
    "    doc.title = \"Streaming Conway's Game of Life\"\n",
    "\n",
    "    doc.add_root(p2d)\n",
    "\n",
    "\n",
    "app = Application(FunctionHandler(make_document))\n",
    "\n",
    "show(app)"
   ]
  },
  {
   "cell_type": "markdown",
   "metadata": {},
   "source": [
    "## Enabling Data Analysis\n",
    "\n",
    "One of the most exciting things about streaming data through something like Redis is that it allows us to do analysis while the model is running. For models that are written in low level languages like C or Fortran, it is often much easier to write our analysis code in Python. We've traditionally had to do this after the model runs with the (sometimes limited) data written to disk. Streaming our analysis offers a different paradigm.\n",
    "\n",
    "In the next section, we'll load a bunch of timesteps from the model (whatever is available at the moment) and we'll put them in a stacked dask array (wrapped in a `xarray.DataArray`)."
   ]
  },
  {
   "cell_type": "code",
   "execution_count": null,
   "metadata": {},
   "outputs": [],
   "source": [
    "def load_as_dask_array(keys):\n",
    "    dask_arrays = []\n",
    "    labels = []\n",
    "    for key in keys:\n",
    "        try:\n",
    "            za = zarr.open_array(store=store, mode='r', path=key)\n",
    "            dask_arrays.append(dask.array.from_zarr(za))\n",
    "            labels.append(int(key))\n",
    "        except ValueError:\n",
    "            pass\n",
    "    \n",
    "    stacked = dask.array.stack(dask_arrays)\n",
    "    return xr.DataArray(stacked, dims=['time', 'x', 'y'], coords={'time': labels}, name='gameoflife')\n",
    "\n",
    "\n",
    "data = load_as_dask_array(get_all_keys(store))\n",
    "with xr.set_options(display_style=\"html\"):\n",
    "    display(data.to_dataset())"
   ]
  },
  {
   "cell_type": "markdown",
   "metadata": {},
   "source": [
    "From here our analysis proceeds just like it would if we were analyzing any other model output source. We can do data manipulation, visualization, and analysis using tools we're familiar with."
   ]
  },
  {
   "cell_type": "code",
   "execution_count": null,
   "metadata": {},
   "outputs": [],
   "source": [
    "# replace 255's with 1s\n",
    "with ProgressBar():\n",
    "    da = xr.where(data == 255, 1, 0).persist()"
   ]
  },
  {
   "cell_type": "markdown",
   "metadata": {},
   "source": [
    "How many times has each cell been populated?"
   ]
  },
  {
   "cell_type": "code",
   "execution_count": null,
   "metadata": {},
   "outputs": [],
   "source": [
    "with ProgressBar():\n",
    "    da.sum('time').plot(robust=True)"
   ]
  },
  {
   "cell_type": "markdown",
   "metadata": {},
   "source": [
    "How has the total population evolved in time?"
   ]
  },
  {
   "cell_type": "code",
   "execution_count": null,
   "metadata": {},
   "outputs": [],
   "source": [
    "with ProgressBar():\n",
    "    da.sum(('x', 'y')).plot()\n",
    "    \n",
    "plt.ylabel('Total population')\n",
    "plt.title(\"Conway's Game of Life\")"
   ]
  },
  {
   "cell_type": "markdown",
   "metadata": {},
   "source": [
    "How has the rate of population increase/decrease changed over time?"
   ]
  },
  {
   "cell_type": "code",
   "execution_count": null,
   "metadata": {},
   "outputs": [],
   "source": [
    "with ProgressBar():\n",
    "    for window in [10, 25, 50, 100, 200]:\n",
    "        temp = da.sum(('x', 'y')).compute()\n",
    "        temp.rolling(time=window).mean().diff('time').plot(label=window)\n",
    "plt.grid()\n",
    "plt.legend()"
   ]
  },
  {
   "cell_type": "code",
   "execution_count": null,
   "metadata": {},
   "outputs": [],
   "source": []
  }
 ],
 "metadata": {
  "kernelspec": {
   "display_name": "Python (zarr)",
   "language": "python",
   "name": "zarr"
  },
  "language_info": {
   "codemirror_mode": {
    "name": "ipython",
    "version": 3
   },
   "file_extension": ".py",
   "mimetype": "text/x-python",
   "name": "python",
   "nbconvert_exporter": "python",
   "pygments_lexer": "ipython3",
   "version": "3.7.1"
  }
 },
 "nbformat": 4,
 "nbformat_minor": 4
}
