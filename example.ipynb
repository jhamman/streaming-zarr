{
 "cells": [
  {
   "cell_type": "code",
   "execution_count": null,
   "metadata": {},
   "outputs": [],
   "source": [
    "import zarr\n",
    "import matplotlib.pyplot as plt\n",
    "\n",
    "\n",
    "# connect to the redis server\n",
    "store = zarr.RedisStore(port=7777)"
   ]
  },
  {
   "cell_type": "code",
   "execution_count": null,
   "metadata": {},
   "outputs": [],
   "source": [
    "def get_most_recent_key(store):\n",
    "    '''helper function to get the most recent key from redis'''\n",
    "    keys = list(set([s.split('/')[0] for s in store.keylist()]))\n",
    "    keys.remove('.zgroup')\n",
    "    keys.sort(key=int)\n",
    "    print(f'current available keys: {keys}')\n",
    "    return keys[-1]\n",
    "\n",
    "\n",
    "# access the most recent frame of data\n",
    "key = get_most_recent_key(store)\n",
    "grid = zarr.open_array(store=store, mode='r', path=key)\n",
    "\n",
    "# make a quick matplotlib plot\n",
    "plt.imshow(grid, cmap='Greys')\n",
    "plt.title(key)"
   ]
  },
  {
   "cell_type": "code",
   "execution_count": null,
   "metadata": {},
   "outputs": [],
   "source": [
    "import dask.array\n",
    "\n",
    "\n",
    "key = get_most_recent_key(store)\n",
    "grid = zarr.open_array(store=store, mode='r', path=key)\n",
    "\n",
    "# map the zarr array to a dask array\n",
    "grid2 = dask.array.from_zarr(grid)\n",
    "grid2"
   ]
  },
  {
   "cell_type": "code",
   "execution_count": null,
   "metadata": {},
   "outputs": [],
   "source": [
    "from dask.diagnostics import ProgressBar\n",
    "\n",
    "\n",
    "# compute the array using dask\n",
    "with ProgressBar():\n",
    "    grid2.compute()"
   ]
  },
  {
   "cell_type": "code",
   "execution_count": null,
   "metadata": {},
   "outputs": [],
   "source": [
    "# another plot\n",
    "plt.imshow(grid2, cmap='Greys')\n",
    "plt.title(key)"
   ]
  },
  {
   "cell_type": "code",
   "execution_count": null,
   "metadata": {},
   "outputs": [],
   "source": [
    "# TODO: \n",
    "#\n",
    "# - checkout streamz, evaluate how \"watch\" the redis stream\n",
    "# - checkout datashader or hvplot for"
   ]
  },
  {
   "cell_type": "code",
   "execution_count": null,
   "metadata": {},
   "outputs": [],
   "source": []
  }
 ],
 "metadata": {
  "kernelspec": {
   "display_name": "Python 3",
   "language": "python",
   "name": "python3"
  },
  "language_info": {
   "codemirror_mode": {
    "name": "ipython",
    "version": 3
   },
   "file_extension": ".py",
   "mimetype": "text/x-python",
   "name": "python",
   "nbconvert_exporter": "python",
   "pygments_lexer": "ipython3",
   "version": "3.7.1"
  }
 },
 "nbformat": 4,
 "nbformat_minor": 2
}
